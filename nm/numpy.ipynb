{
 "cells": [
  {
   "cell_type": "markdown",
   "metadata": {},
   "source": [
    "tek boyutlu dizi"
   ]
  },
  {
   "cell_type": "code",
   "execution_count": null,
   "metadata": {},
   "outputs": [],
   "source": [
    "import numpy as np\n",
    "\n",
    "x = np.array([1,2,3],np.int16) # range of np.int16\n",
    "\n",
    "print(x)\n",
    "\n",
    "print(type(x))\n",
    "print(x[0]);print(x[1]);print(x[2])\n",
    "\n",
    "print(x[-1])\n",
    "print(x[-2])\n",
    "print(x[-3])"
   ]
  },
  {
   "cell_type": "markdown",
   "metadata": {},
   "source": [
    "2 boyutlu dizi"
   ]
  },
  {
   "cell_type": "code",
   "execution_count": null,
   "metadata": {},
   "outputs": [],
   "source": [
    "import numpy as np\n",
    "\n",
    "x = np.array([[1,2,3],[4,5,6]],np.int16)\n",
    "print(x)\n",
    "\n",
    "print(\"-----\")\n",
    "print(x[0]);print(x[0,0]);print(x[0,1]);print(x[0,2])\n",
    "print(\"-----\")\n",
    "print(x[1]);print(x[1,0]);print(x[1,1]);print(x[1,2])\n",
    "\n",
    "print(x[:,0]);print(x[:,1]);print(x[:,2]) #sütun çekme\n",
    "print(\"-----\")\n",
    "print(x[0,:]);print(x[1,:]) #satır çekme"
   ]
  },
  {
   "cell_type": "markdown",
   "metadata": {},
   "source": [
    "3 boyutlu dizi"
   ]
  },
  {
   "cell_type": "code",
   "execution_count": null,
   "metadata": {},
   "outputs": [],
   "source": [
    "import numpy as np\n",
    "\n",
    "x = np.array([ [[1,2,3],[4,5,6]], [[7,8,9],[10,11,12]] ],np.int16)\n",
    "print(x)\n",
    "print(x[0,0,0])\n",
    "print(x[0,1,0])\n",
    "print(x[1,1,1])"
   ]
  },
  {
   "cell_type": "markdown",
   "metadata": {},
   "source": [
    "çok boyutlu dizi"
   ]
  },
  {
   "cell_type": "code",
   "execution_count": null,
   "metadata": {},
   "outputs": [],
   "source": [
    "import numpy as np\n",
    "x = np.array([[-2,-1,0,5],[9,4,5,-7],[9,7,6,5]],np.int16) # uint pozitif sayılarda\n",
    "\n",
    "print(x)\n",
    "\n",
    "print(x.shape) #boyut\n",
    "print(x.ndim) #boyut\n",
    "print(x.dtype) \n",
    "print(x.size) #eleman sayısı\n",
    "print(x.T) #devriğini alma"
   ]
  },
  {
   "cell_type": "markdown",
   "metadata": {},
   "source": [
    "0 dizileri oluşturma"
   ]
  },
  {
   "cell_type": "code",
   "execution_count": null,
   "metadata": {},
   "outputs": [],
   "source": [
    "import numpy as np\n",
    "\n",
    "x = np.empty([3,3],np.uint8) #boş ragele sayıalrla dizi\n",
    "print(\"x: \",x)\n",
    "\n",
    "y = np.full((3,3,3),dtype=np.int16,fill_value=10) #10lardan oluşan dizi fill ona yarıyor\n",
    "print(\"y: \",y)\n",
    "\n",
    "z = np.ones((2,5,5),dtype=np.int8) #1lardan oluşan dizi/beyaz ekran\n",
    "print(\"z: \",z)\n",
    "\n",
    "j = np.zeros((2,3,3),dtype=np.int8) #0lardan oluşan dizi/siyah ekran\n",
    "print(\"j: \",j)"
   ]
  },
  {
   "cell_type": "markdown",
   "metadata": {},
   "source": [
    "veri görselleştirme"
   ]
  },
  {
   "cell_type": "code",
   "execution_count": null,
   "metadata": {},
   "outputs": [],
   "source": [
    "import matplotlib.pyplot as plt\n",
    "import numpy as np\n",
    "\n",
    "x = np.arange(5) #değer kadar sayı üretme\n",
    "y = x\n",
    "\n",
    "plt.plot(x,y,\"o--\")  #grafiği çiziyor /onokta çiziyor /o- tam çzigi/ o-- kesikli çizgi\n",
    "plt.plot(x,-y)\n",
    "plt.plot(-x,y,\"o\")\n",
    "plt.title(\"y=x, y=-x\")\n",
    "plt.show() #gösteriyor"
   ]
  },
  {
   "cell_type": "markdown",
   "metadata": {},
   "source": [
    "veri görselleştirme 2"
   ]
  },
  {
   "cell_type": "code",
   "execution_count": null,
   "metadata": {},
   "outputs": [],
   "source": [
    "import numpy as np\n",
    "import matplotlib.pyplot as plt\n",
    "\n",
    "N = 11\n",
    "x = np.linspace(0,10,N) #girdiğimiz aralıkta veri üretiyor 0 10 arası eşit aralıkla\n",
    "\n",
    "y = x\n",
    "\n",
    "plt.plot(x,y,\"o--\")\n",
    "plt.axis(\"off\") #eksen yok etme\n",
    "plt.show()\n",
    "\n",
    "x = [1,2,3,4]\n",
    "plt.plot(x,[y**2 for y in x]) #y yi xin karesi olarak alıyoruz\n",
    "plt.show()"
   ]
  },
  {
   "cell_type": "markdown",
   "metadata": {},
   "source": [
    "kanal değerlerine erişme"
   ]
  },
  {
   "cell_type": "code",
   "execution_count": null,
   "metadata": {},
   "outputs": [],
   "source": [
    "import numpy as np\n",
    "import matplotlib.pyplot as plt\n",
    "\n",
    "path = r'C:\\Users\\zeyne\\Desktop\\opencvkurs\\temel_islemler\\coins.jpg'\n",
    "img = plt.imread(path)\n",
    "print(img);print(\"type: \",type(img));print(\"shape: \",img.shape);print(\"ndim: \",img.ndim);print(\"size: \",img.size);print(\"dtype:\", img.dtype)\n",
    "\n",
    "print(\"red channel: \",img[50,50,0]) # rgb ise r =0, g=1, b=2\n",
    "print(\"green channel: \",img[50,50,1])\n",
    "print(\"blue channel: \",img[50,50,2])\n",
    "print(\"rgb channel value: \",img[50,50,:])"
   ]
  },
  {
   "cell_type": "markdown",
   "metadata": {},
   "source": [
    "bgr-rgb-gray"
   ]
  },
  {
   "cell_type": "code",
   "execution_count": null,
   "metadata": {},
   "outputs": [],
   "source": [
    "import cv2\n",
    "import matplotlib.pyplot as plt\n",
    "\n",
    "path = r\"C:\\Users\\zeyne\\Desktop\\opencvkurs\\temel_islemler\\smile.jpg\"\n",
    "img = cv2.imread(path,0) # BGR 1 yazınca /0 gary \n",
    "# img = cv2.cvtColor(img,cv2.COLOR_BGR2GRAY)\n",
    "\n",
    "plt.imshow(img,cmap='gray',interpolation = 'BICUBIC') # RGB/ direkt img olarak okursak bgr okur/cmap color map/ \n",
    "plt.show() "
   ]
  },
  {
   "cell_type": "markdown",
   "metadata": {},
   "source": [
    "resim istatistik"
   ]
  },
  {
   "cell_type": "code",
   "execution_count": null,
   "metadata": {},
   "outputs": [],
   "source": [
    "import numpy as np\n",
    "import matplotlib.pyplot as plt\n",
    "\n",
    "path = r\"C:\\Users\\zeyne\\Desktop\\opencvkurs\\temel_islemler\\smile.jpg\"\n",
    "img = plt.imread(path)\n",
    "print(img)\n",
    "print(\"min value: \",img.min())\n",
    "print(\"max value: \", img.max())\n",
    "print(\"mean: \", img.mean())\n",
    "print(\"median: \",np.median(img))\n",
    "print(\"average: \",np.average(img))\n",
    "print(\"mean1: \",np.mean(img))"
   ]
  },
  {
   "cell_type": "markdown",
   "metadata": {},
   "source": [
    "resim kanalları"
   ]
  },
  {
   "cell_type": "code",
   "execution_count": null,
   "metadata": {},
   "outputs": [],
   "source": [
    "import numpy as np\n",
    "import matplotlib.pyplot as plt\n",
    "\n",
    "\n",
    "path = r'C:\\Users\\zeyne\\Desktop\\opencvkurs\\temel_islemler\\map.jpg'\n",
    "img = plt.imread(path)\n",
    "\n",
    "\"\"\"\n",
    "[r,g,b]\n",
    "[50,50,0] red\n",
    "[70,70,1] green\n",
    "[:,:,2] blue\n",
    "\"\"\"\n",
    "r = img[:,:,0]\n",
    "g = img[:,:,1]\n",
    "b = img[:,:,2]\n",
    "\n",
    "output = np.dstack((r,g,b)) #tüm resimleri üst üste yığarak orjinal resim çıkıyor\n",
    "plt.imshow(output)\n",
    "plt.show()\n",
    "\n",
    "output = [img,r,g,b]\n",
    "titles = [\"Image\",\"Red\",\"Green\",\"Blue\"]\n",
    "\n",
    "for i in range(4):\n",
    "    plt.subplot(2,2,i+1) #alt grafik/satır,sütun,grafiklerin nereye yerleşeceği\n",
    "    plt.axis(\"off\")\n",
    "    plt.title(titles[i]) #adları yerleştiriyoruz\n",
    "    if i ==0:\n",
    "        plt.imshow(output[i])\n",
    "    else:\n",
    "        plt.imshow(output[i],cmap='gray') #yoğunluktan renkleri anlıyoruz\n",
    "    plt.show()\n"
   ]
  },
  {
   "cell_type": "markdown",
   "metadata": {},
   "source": [
    "resimler üzerinde aritmetik işlemler"
   ]
  },
  {
   "cell_type": "code",
   "execution_count": null,
   "metadata": {},
   "outputs": [],
   "source": [
    "import numpy as np\n",
    "import matplotlib.pyplot as plt\n",
    "\n",
    "img = plt.imread(r\"C:\\Users\\zeyne\\Desktop\\opencvkurs\\temel_islemler\\map.jpg\")\n",
    "\n",
    "plt.subplot(4,2,1) #kaça kaçlık, 1 grafiği nereye koyucağımız\n",
    "plt.title(\"Original Image\")\n",
    "plt.imshow(img)\n",
    "\n",
    "plt.subplot(4,2,2)\n",
    "plt.title(\"img+img\") #renk değerli toplama\n",
    "plt.imshow(img+img)\n",
    "\n",
    "plt.subplot(4,2,3)\n",
    "plt.title(\"img-img\") #renkleri çıkarma\n",
    "plt.imshow(img-img)\n",
    "\n",
    "plt.subplot(4,2,4)\n",
    "plt.title(\"np.flip(img,0)\") # x eksenine göre yansıma\n",
    "plt.imshow(np.flip(img,0)) \n",
    "\n",
    "plt.subplot(4,2,5)\n",
    "plt.title(\"np.flip(img,1)\") # y eksenine göre yansıma\n",
    "plt.imshow(np.flip(img,1)) \n",
    "\n",
    "\n",
    "plt.subplot(4,2,6)\n",
    "plt.title(\"np.flip(img,2)\") # renk değerli değişir\n",
    "plt.imshow(np.flip(img,2)) \n",
    "\n",
    "plt.subplot(4,2,7)\n",
    "plt.title(\"np.fliplr(img)\") #sağı sola koyuyoruz\n",
    "plt.imshow(np.fliplr(img)) \n",
    "\n",
    "plt.subplot(4,2,8)\n",
    "plt.title(\"np.flipud(img)\") #resmi baş aşağı yapıyor\n",
    "plt.imshow(np.flipud(img)) \n",
    "\n",
    "plt.show()"
   ]
  }
 ],
 "metadata": {
  "kernelspec": {
   "display_name": "Python 3",
   "language": "python",
   "name": "python3"
  },
  "language_info": {
   "codemirror_mode": {
    "name": "ipython",
    "version": 3
   },
   "file_extension": ".py",
   "mimetype": "text/x-python",
   "name": "python",
   "nbconvert_exporter": "python",
   "pygments_lexer": "ipython3",
   "version": "3.11.2"
  }
 },
 "nbformat": 4,
 "nbformat_minor": 2
}
