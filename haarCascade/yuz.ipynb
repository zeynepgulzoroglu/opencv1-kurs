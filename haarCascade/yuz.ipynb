{
 "cells": [
  {
   "cell_type": "markdown",
   "metadata": {},
   "source": [
    "yüz algılama"
   ]
  },
  {
   "cell_type": "code",
   "execution_count": null,
   "metadata": {},
   "outputs": [],
   "source": [
    "import cv2\n",
    "\n",
    "img =cv2.imread(\"face.png\")\n",
    "face_cascade = cv2.CascadeClassifier(\"face.xml\")\n",
    "\n",
    "# cascade dosyası kullarak resmin üzerindeki yüz koordinatlarını buluyoruz/ \n",
    "# 1.3 ölçeklendirme değeri ne kadar küçültüceğimiz/\n",
    "# belli noktada kaç farklı pencerede yüz arayacağımız\n",
    "gray = cv2.cvtColor(img,cv2.COLOR_BGR2GRAY)\n",
    "faces = face_cascade.detectMultiScale(gray,1.3,7)  #1.3 küçültme ölçeği/7 bir bölgenin en az 3 komşu dikdörtgen ile örtüşmesi gerektiğini belirtir daha yüksek değerler daha az yanlış pozitif sağlar\n",
    " \n",
    "for (x,y,w,h) in faces: # \"faces\" değişkeninde tuttuğumuz koordinatları kullanarak yüzleri dikdörtgen içerisine alalım\n",
    "    cv2.rectangle(img,(x,y),(x+w,y+h),(0,0,255),2)\n",
    "    \n",
    "cv2.imshow(\"image\",img)\n",
    "cv2.waitKey(0)\n",
    "cv2.destroyAllWindows()"
   ]
  },
  {
   "cell_type": "markdown",
   "metadata": {},
   "source": [
    "videodan yüz yakalama"
   ]
  },
  {
   "cell_type": "code",
   "execution_count": null,
   "metadata": {},
   "outputs": [],
   "source": [
    "import cv2\n",
    "\n",
    "cap = cv2.VideoCapture(\"faces.mp4\")\n",
    "face_cascade = cv2.CascadeClassifier(\"face.xml\")\n",
    "\n",
    "while 1:\n",
    "    _,frame = cap.read()  #_içinde 0ve 1 barındırır vid.read 2 değer döndürür 1 tanesi frame 1 tanesi doğru yanlış / 0,1\n",
    "    gray = cv2.cvtColor(frame,cv2.COLOR_BGR2GRAY)\n",
    "    faces = face_cascade.detectMultiScale(gray,1.1,2)  \n",
    " \n",
    "    for (x,y,w,h) in faces: \n",
    "        cv2.rectangle(frame,(x,y),(x+w,y+h),(0,0,255),2)\n",
    "        \n",
    "    cv2.imshow(\"image\",frame)\n",
    "    \n",
    "    if cv2.waitKey(1) & 0xFF == ord(\"q\"):\n",
    "        break\n",
    "\n",
    "cap.release()\n",
    "cv2.destroyAllWindows()"
   ]
  },
  {
   "cell_type": "markdown",
   "metadata": {},
   "source": [
    "webcam yüz bulma"
   ]
  },
  {
   "cell_type": "code",
   "execution_count": null,
   "metadata": {},
   "outputs": [],
   "source": [
    "import cv2\n",
    "\n",
    "cap = cv2.VideoCapture(0)\n",
    "face_cascade = cv2.CascadeClassifier(\"face.xml\")\n",
    "\n",
    "while 1:\n",
    "    _,frame = cap.read()  #_içinde 0ve 1 barındırır vid.read 2 değer döndürür 1 tanesi frame 1 tanesi doğru yanlış / 0,1\n",
    "    frame = cv2.flip(frame,1)\n",
    "    gray = cv2.cvtColor(frame,cv2.COLOR_BGR2GRAY)\n",
    "    faces = face_cascade.detectMultiScale(gray,1.1,2)  \n",
    " \n",
    "    for (x,y,w,h) in faces: \n",
    "        cv2.rectangle(frame,(x,y),(x+w,y+h),(0,0,255),2)\n",
    "        \n",
    "    cv2.imshow(\"image\",frame)\n",
    "    \n",
    "    if cv2.waitKey(1) & 0xFF == ord(\"q\"):\n",
    "        break\n",
    "\n",
    "cap.release()\n",
    "cv2.destroyAllWindows()"
   ]
  },
  {
   "cell_type": "markdown",
   "metadata": {},
   "source": [
    "resimden göz bulma"
   ]
  },
  {
   "cell_type": "code",
   "execution_count": null,
   "metadata": {},
   "outputs": [],
   "source": [
    "import cv2\n",
    "\n",
    "img =cv2.imread(\"face.png\")\n",
    "face_cascade = cv2.CascadeClassifier(\"face.xml\")\n",
    "eye_cascade = cv2.CascadeClassifier(\"eye.xml\")\n",
    "\n",
    "gray = cv2.cvtColor(img,cv2.COLOR_BGR2GRAY)\n",
    "faces = face_cascade.detectMultiScale(gray,1.7,1)  \n",
    " \n",
    "for (x,y,w,h) in faces: \n",
    "    cv2.rectangle(img,(x,y),(x+w,y+h),(0,0,255),2)\n",
    "    \n",
    "img2 = img[y:y+h, x:x+w]\n",
    "gray2 = gray[y:y+h, x:x+w]\n",
    "\n",
    "eyes = eye_cascade.detectMultiScale(gray2)\n",
    "\n",
    "for (ex,ey,ew,eh) in eyes: \n",
    "    cv2.rectangle(img2,(ex,ey),(ex+ew,ey+eh),(0,0,255),2) \n",
    "    \n",
    "cv2.imshow(\"image\",img)\n",
    "cv2.waitKey(0)\n",
    "cv2.destroyAllWindows()"
   ]
  },
  {
   "cell_type": "markdown",
   "metadata": {},
   "source": [
    "videodan göz algılama"
   ]
  },
  {
   "cell_type": "code",
   "execution_count": 1,
   "metadata": {},
   "outputs": [],
   "source": [
    "import cv2\n",
    "\n",
    "cap =cv2.VideoCapture(\"eye.mp4\")\n",
    "face_cascade = cv2.CascadeClassifier(\"face.xml\")\n",
    "eye_cascade = cv2.CascadeClassifier(\"eye.xml\")\n",
    "\n",
    "while 1:\n",
    "    _,frame = cap.read()\n",
    "    gray = cv2.cvtColor(frame,cv2.COLOR_BGR2GRAY)\n",
    "    faces = face_cascade.detectMultiScale(gray,1.1,2) \n",
    " \n",
    "    for (x,y,w,h) in faces: \n",
    "        cv2.rectangle(frame,(x,y),(x+w,y+h),(0,0,255),2)\n",
    "        \n",
    "    roi_frame = frame[y:y+h, x:x+w]\n",
    "    roi_gray = gray[y:y+h, x:x+w]\n",
    "\n",
    "    eyes = eye_cascade.detectMultiScale(roi_gray)\n",
    "\n",
    "    for (ex,ey,ew,eh) in eyes: \n",
    "        cv2.rectangle(roi_frame,(ex,ey),(ex+ew,ey+eh),(0,0,255),2) \n",
    "        \n",
    "        cv2.imshow(\"frame\",frame)\n",
    "    \n",
    "    if cv2.waitKey(1) & 0xFF == ord(\"q\"):\n",
    "        break\n",
    "\n",
    "cap.release()\n",
    "cv2.destroyAllWindows()"
   ]
  },
  {
   "cell_type": "markdown",
   "metadata": {},
   "source": [
    "webcam video göz yakalama"
   ]
  },
  {
   "cell_type": "code",
   "execution_count": 2,
   "metadata": {},
   "outputs": [],
   "source": [
    "import cv2\n",
    "\n",
    "cap =cv2.VideoCapture(0)\n",
    "face_cascade = cv2.CascadeClassifier(\"face.xml\")\n",
    "eye_cascade = cv2.CascadeClassifier(\"eye.xml\")\n",
    "\n",
    "while 1:\n",
    "    _,frame = cap.read()  \n",
    "    frame = cv2.flip(frame,1)\n",
    "    gray = cv2.cvtColor(frame,cv2.COLOR_BGR2GRAY)\n",
    "    faces = face_cascade.detectMultiScale(gray,1.1,2) \n",
    "\n",
    "    gray = cv2.cvtColor(frame,cv2.COLOR_BGR2GRAY)\n",
    "    faces = face_cascade.detectMultiScale(gray,1.7,1)  \n",
    " \n",
    "    for (x,y,w,h) in faces: \n",
    "        cv2.rectangle(frame,(x,y),(x+w,y+h),(0,0,255),2)\n",
    "        \n",
    "    roi_frame = frame[y:y+h, x:x+w]\n",
    "    roi_gray = gray[y:y+h, x:x+w]\n",
    "\n",
    "    eyes = eye_cascade.detectMultiScale(roi_gray)\n",
    "\n",
    "    for (ex,ey,ew,eh) in eyes: \n",
    "        cv2.rectangle(roi_frame,(ex,ey),(ex+ew,ey+eh),(0,0,255),2) \n",
    "        \n",
    "        cv2.imshow(\"frame\",frame)\n",
    "    \n",
    "    if cv2.waitKey(1) & 0xFF == ord(\"q\"):\n",
    "        break\n",
    "\n",
    "cap.release()\n",
    "cv2.destroyAllWindows()"
   ]
  },
  {
   "cell_type": "markdown",
   "metadata": {},
   "source": [
    "resimden insan bedeni algılama"
   ]
  },
  {
   "cell_type": "code",
   "execution_count": null,
   "metadata": {},
   "outputs": [],
   "source": [
    "import cv2\n",
    "\n",
    "img =cv2.imread(\"body.jpg\")\n",
    "body_cascade = cv2.CascadeClassifier(\"fullbody.xml\")\n",
    "\n",
    "gray = cv2.cvtColor(img,cv2.COLOR_BGR2GRAY)\n",
    "bodys = body_cascade.detectMultiScale(gray,1.7,1)  \n",
    " \n",
    "for (x,y,w,h) in bodys: \n",
    "    cv2.rectangle(img,(x,y),(x+w,y+h),(0,0,255),2)\n",
    "    \n",
    "cv2.imshow(\"image\",img)\n",
    "cv2.waitKey(0)\n",
    "cv2.destroyAllWindows()"
   ]
  },
  {
   "cell_type": "markdown",
   "metadata": {},
   "source": [
    "videodan insan vücudu bulma"
   ]
  },
  {
   "cell_type": "code",
   "execution_count": 3,
   "metadata": {},
   "outputs": [],
   "source": [
    "import cv2\n",
    "\n",
    "cap = cv2.VideoCapture(\"body.mp4\")\n",
    "body_cascade = cv2.CascadeClassifier(\"fullbody.xml\")\n",
    "\n",
    "while 1:\n",
    "    _,frame = cap.read()\n",
    "    gray = cv2.cvtColor(frame,cv2.COLOR_BGR2GRAY)\n",
    "    bodies = body_cascade.detectMultiScale(gray,1.1,7)\n",
    "    \n",
    "    for (x,y,w,h) in bodies:\n",
    "        cv2.rectangle(frame,(x,y),(y+h,x+w),(0,0,255),2)\n",
    "        \n",
    "        cv2.imshow(\"cap\",frame)\n",
    "        \n",
    "    if cv2.waitKey(5) & 0xFF == ord(\"q\"):\n",
    "        break\n",
    "\n",
    "cap.release()\n",
    "cv2.destroyAllWindows()"
   ]
  },
  {
   "cell_type": "markdown",
   "metadata": {},
   "source": [
    "resimden araba bulma"
   ]
  },
  {
   "cell_type": "code",
   "execution_count": null,
   "metadata": {},
   "outputs": [],
   "source": [
    "import cv2\n",
    "\n",
    "img = cv2.imread(\"car.jpg\")\n",
    "car_cascade = cv2.CascadeClassifier(\"car.xml\")\n",
    "\n",
    "gary = cv2.cvtColor(img,cv2.COLOR_BGR2GRAY)\n",
    "cars = car_cascade.detectMultiScale(gary,1.1,4)\n",
    "\n",
    "for (x,y,w,h) in cars:\n",
    "    cv2.rectangle(img,(x,y),(x+w,y+h),(0,0,255),2)\n",
    "    \n",
    "    cv2.imshow(\"img\",img)\n",
    "    \n",
    "cv2.waitKey(0)\n",
    "cv2.destroyAllWindows()"
   ]
  },
  {
   "cell_type": "markdown",
   "metadata": {},
   "source": [
    "videodan araba bulma"
   ]
  },
  {
   "cell_type": "code",
   "execution_count": 4,
   "metadata": {},
   "outputs": [],
   "source": [
    "import cv2\n",
    "\n",
    "cap = cv2.VideoCapture(\"car.mp4\")\n",
    "car_cascade = cv2.CascadeClassifier(\"car.xml\")\n",
    "\n",
    "while True:\n",
    "    _,frame = cap.read()\n",
    "    frame = cv2.resize(frame,(640,480))\n",
    "    gray = cv2.cvtColor(frame,cv2.COLOR_BGR2GRAY)\n",
    "    cars = car_cascade.detectMultiScale(gray,1.1,2)\n",
    "    \n",
    "    for (x,y,w,h) in cars:\n",
    "        cv2.rectangle(frame,(x,y),(y+h,x+w),(0,0,255),2)\n",
    "        \n",
    "        cv2.imshow(\"cap\",frame)\n",
    "        \n",
    "    if cv2.waitKey(5) & 0xFF == ord(\"q\"):\n",
    "        break\n",
    "\n",
    "cap.release()\n",
    "cv2.destroyAllWindows()"
   ]
  },
  {
   "cell_type": "markdown",
   "metadata": {},
   "source": [
    "resimden gülümseme bulma"
   ]
  },
  {
   "cell_type": "code",
   "execution_count": null,
   "metadata": {},
   "outputs": [],
   "source": [
    "import cv2\n",
    "\n",
    "img =cv2.imread(\"smile.jpg\")\n",
    "face_cascade = cv2.CascadeClassifier(\"face.xml\")\n",
    "smile_cascade = cv2.CascadeClassifier(\"smile.xml\")\n",
    "\n",
    "gray = cv2.cvtColor(img,cv2.COLOR_BGR2GRAY)\n",
    "faces = face_cascade.detectMultiScale(gray,1.3,5)\n",
    "\n",
    "for (x,y,w,h) in faces:\n",
    "    cv2.rectangle(img,(x,y),(x+w,y+h),(0,255,0),2) \n",
    "    roi_img = img[x:x+w,y:y+h] \n",
    "    roi_gray = gray[x:x+w,y:y+h]\n",
    "\n",
    "smilies = smile_cascade.detectMultiScale(roi_gray)\n",
    "\n",
    "gray2 = cv2.cvtColor(roi_img,cv2.COLOR_BGR2GRAY)\n",
    "smilies = smile_cascade.detectMultiScale(roi_gray,1.3,5)\n",
    "\n",
    "for (sx,sy,sw,sh) in smilies:\n",
    "    cv2.rectangle(roi_img,(sx,sy),(sx+sw,sy+sh),(0,0,255),2) \n",
    "\n",
    "cv2.imshow(\"smile\",img)\n",
    "cv2.waitKey(0)\n",
    "cv2.destroyAllWindows()"
   ]
  },
  {
   "cell_type": "markdown",
   "metadata": {},
   "source": [
    "videodan gülümseme bulma"
   ]
  },
  {
   "cell_type": "code",
   "execution_count": null,
   "metadata": {},
   "outputs": [],
   "source": [
    "import cv2\n",
    "\n",
    "cap = cv2.VideoCapture(\"smile.mp4\")\n",
    "face_cascade = cv2.CascadeClassifier(\"face.xml\")\n",
    "smile_cascade = cv2.CascadeClassifier(\"smile.xml\")\n",
    "\n",
    "while 1:\n",
    "    _,frame = cap.read()\n",
    "    frame = cv2.resize(frame,(640,480))\n",
    "    gray = cv2.cvtColor(frame,cv2.COLOR_BGR2GRAY)\n",
    "    faces = face_cascade.detectMultiScale(gray,1.4,9)\n",
    "    \n",
    "    for (x,y,w,h) in faces:\n",
    "        cv2.rectangle(frame,(x,y),(y+h,x+w),(255,0,0),2)\n",
    "        \n",
    "        roi_img = frame[x:x+w,y:y+h] \n",
    "        roi_gray = gray[x:x+w,y:y+h]\n",
    "        \n",
    "        smilies = smile_cascade.detectMultiScale(roi_gray,1.3,3)\n",
    "        \n",
    "        for (sx,sy,sw,sh) in smilies:\n",
    "            cv2.rectangle(roi_img,(sx,sy),(sx+sw,sy+sh),(255,0,0),2)\n",
    "            \n",
    "    cv2.imshow(\"smilies\",frame)\n",
    "            \n",
    "    if cv2.waitKey(5) & 0xFF == ord(\"q\"):\n",
    "        break\n",
    "\n",
    "cap.release()\n",
    "cv2.destroyAllWindows()"
   ]
  },
  {
   "cell_type": "markdown",
   "metadata": {},
   "source": [
    "webcam gülümseme bulma"
   ]
  },
  {
   "cell_type": "code",
   "execution_count": 2,
   "metadata": {},
   "outputs": [],
   "source": [
    "import cv2\n",
    "\n",
    "cap = cv2.VideoCapture(0)\n",
    "face_cascade = cv2.CascadeClassifier(\"face.xml\")\n",
    "smile_cascade = cv2.CascadeClassifier(\"smile.xml\")\n",
    "\n",
    "while 1:\n",
    "    _,frame = cap.read()\n",
    "    frame = cv2.flip(frame,1)\n",
    "    gray = cv2.cvtColor(frame,cv2.COLOR_BGR2GRAY)\n",
    "    faces = face_cascade.detectMultiScale(gray,1.4,9)\n",
    "    \n",
    "    for (x,y,w,h) in faces:\n",
    "        cv2.rectangle(frame,(x,y),(y+h,x+w),(255,0,0),2)\n",
    "        \n",
    "        roi_img = frame[x:x+w,y:y+h] \n",
    "        roi_gray = gray[x:x+w,y:y+h]\n",
    "        \n",
    "        smilies = smile_cascade.detectMultiScale(roi_gray,1.3,3)\n",
    "        \n",
    "        for (sx,sy,sw,sh) in smilies:\n",
    "            cv2.rectangle(roi_img,(sx,sy),(sx+sw,sy+sh),(255,0,0),2)\n",
    "            \n",
    "    cv2.imshow(\"smilies\",frame)\n",
    "            \n",
    "    if cv2.waitKey(20) & 0xFF == ord(\"q\"):\n",
    "        break\n",
    "\n",
    "cap.release()\n",
    "cv2.destroyAllWindows()"
   ]
  },
  {
   "cell_type": "markdown",
   "metadata": {},
   "source": [
    "kendi cascade dosyam ile araba yakalama"
   ]
  },
  {
   "cell_type": "code",
   "execution_count": 8,
   "metadata": {},
   "outputs": [],
   "source": [
    "import cv2\n",
    "\n",
    "cap = cv2.VideoCapture(\"car.mp4\")\n",
    "car_cascade = cv2.CascadeClassifier(\"car_cascade.xml\")\n",
    "\n",
    "while True:\n",
    "    _,frame = cap.read()\n",
    "    frame = cv2.resize(frame,(640,480))\n",
    "    gray = cv2.cvtColor(frame,cv2.COLOR_BGR2GRAY)\n",
    "    cars = car_cascade.detectMultiScale(gray,1.3,3)\n",
    "    \n",
    "    for (x,y,w,h) in cars:\n",
    "        cv2.rectangle(frame,(x,y),(x+w,y+h),(0,0,255),3)\n",
    "        \n",
    "    cv2.imshow(\"car\",frame)\n",
    "    \n",
    "    if cv2.waitKey(20) & 0xFF == ord(\"q\"):\n",
    "        break\n",
    "\n",
    "cap.release()\n",
    "cv2.destroyAllWindows()    "
   ]
  }
 ],
 "metadata": {
  "kernelspec": {
   "display_name": "Python 3",
   "language": "python",
   "name": "python3"
  },
  "language_info": {
   "codemirror_mode": {
    "name": "ipython",
    "version": 3
   },
   "file_extension": ".py",
   "mimetype": "text/x-python",
   "name": "python",
   "nbconvert_exporter": "python",
   "pygments_lexer": "ipython3",
   "version": "3.11.2"
  }
 },
 "nbformat": 4,
 "nbformat_minor": 2
}
