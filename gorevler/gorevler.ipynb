{
 "cells": [
  {
   "cell_type": "markdown",
   "metadata": {},
   "source": [
    "frame yakalam"
   ]
  },
  {
   "cell_type": "code",
   "execution_count": null,
   "metadata": {},
   "outputs": [],
   "source": [
    "import cv2\n",
    "\n",
    "cap = cv2.VideoCapture(0)\n",
    "\n",
    "while 1:\n",
    "    ret,frame = cap.read()\n",
    "    frame = cv2.flip(frame,1)\n",
    "    \n",
    "    cv2.imshow(\"Webcam\",frame)\n",
    "    \n",
    "    a = cv2.waitKey(0)\n",
    "    if a == ord('q'):\n",
    "        break\n",
    "    elif a == ord('s'):\n",
    "        cv2.imwrite(\"webcam.png\",frame)\n",
    "        \n",
    "cap.release()\n",
    "cv2.destroyAllWindows()\n"
   ]
  },
  {
   "cell_type": "markdown",
   "metadata": {},
   "source": [
    "hsv ile renk takibi"
   ]
  },
  {
   "cell_type": "code",
   "execution_count": null,
   "metadata": {},
   "outputs": [],
   "source": [
    "import cv2\n",
    "import numpy as np\n",
    "\n",
    "cap = cv2.VideoCapture(0)\n",
    "\n",
    "def nothing(x):\n",
    "    pass\n",
    "\n",
    "cv2.namedWindow(\"Trackbar\")\n",
    "cv2.resizeWindow(\"Trackbar\", 400,400)\n",
    "\n",
    "cv2.createTrackbar(\"Lower - H\", \"Trackbar\", 0, 180, nothing)\n",
    "cv2.createTrackbar(\"Lower - S\", \"Trackbar\", 0, 255, nothing)\n",
    "cv2.createTrackbar(\"Lower - V\", \"Trackbar\", 0, 255, nothing)\n",
    "\n",
    "cv2.createTrackbar(\"Upper - H\", \"Trackbar\", 0, 180, nothing)\n",
    "cv2.createTrackbar(\"Upper - S\", \"Trackbar\", 0, 255, nothing)\n",
    "cv2.createTrackbar(\"Upper - V\", \"Trackbar\", 0, 255, nothing)\n",
    "\n",
    "cv2.setTrackbarPos(\"Upper - H\", \"Trackbar\", 180)\n",
    "cv2.setTrackbarPos(\"Upper - S\", \"Trackbar\", 255)\n",
    "cv2.setTrackbarPos(\"Upper - V\", \"Trackbar\", 255)\n",
    "\n",
    "while True:\n",
    "    ret, frame = cap.read()\n",
    "    frame = cv2.flip(frame, 1)\n",
    "\n",
    "    frame_hsv = cv2.cvtColor(frame, cv2.COLOR_BGR2HSV)\n",
    "\n",
    "    lower_h = cv2.getTrackbarPos(\"Lower - H\", \"Trackbar\")\n",
    "    lower_s = cv2.getTrackbarPos(\"Lower - S\", \"Trackbar\")\n",
    "    lower_v = cv2.getTrackbarPos(\"Lower - V\", \"Trackbar\")\n",
    "\n",
    "    upper_h = cv2.getTrackbarPos(\"Upper - H\", \"Trackbar\")\n",
    "    upper_s = cv2.getTrackbarPos(\"Upper - S\", \"Trackbar\")\n",
    "    upper_v = cv2.getTrackbarPos(\"Upper - V\", \"Trackbar\")\n",
    "\n",
    "    lower_color = np.array([lower_h, lower_s, lower_v])\n",
    "    upper_color = np.array([upper_h, upper_s, upper_v])\n",
    "\n",
    "    mask = cv2.inRange(frame_hsv, lower_color, upper_color)\n",
    "\n",
    "    cv2.imshow(\"Original\", frame)\n",
    "    cv2.imshow(\"Mask\", mask)\n",
    "\n",
    "    if cv2.waitKey(20) & 0xFF == ord(\"q\"):\n",
    "        break\n",
    "\n",
    "cap.release()\n",
    "cv2.destroyAllWindows()"
   ]
  },
  {
   "cell_type": "markdown",
   "metadata": {},
   "source": [
    "para sayma1"
   ]
  },
  {
   "cell_type": "code",
   "execution_count": 1,
   "metadata": {},
   "outputs": [],
   "source": [
    "import cv2\n",
    "import numpy as np\n",
    "\n",
    "img1 = cv2.imread(\"para1.jpg\")\n",
    "img1 = cv2.resize(img1,(640,480))\n",
    "gray1 = cv2.cvtColor(img1,cv2.COLOR_BGR2GRAY)\n",
    "img1_blur = cv2.medianBlur(gray1,19)\n",
    "\n",
    "circles1 = cv2.HoughCircles(img1_blur,cv2.HOUGH_GRADIENT,1,img1.shape[0]/20,param1=180,param2=20,minRadius=20,maxRadius=97)\n",
    "\n",
    "if circles1 is not None:\n",
    "    circles1 = np.uint16(np.around(circles1))\n",
    "    \n",
    "    for i in circles1[0,:]: \n",
    "        cv2.circle(img1,(i[0],i[1]),i[2],(0,255,0),2)\n",
    "        coins = len(circles1[0]) \n",
    "    \n",
    "    cv2.putText(img1, f\"Bulunan para sayisi: {coins}\", (10, 30), cv2.FONT_HERSHEY_SIMPLEX, 0.8, (255, 0, 0), 2)        \n",
    "\n",
    "cv2.imshow(\"img1\",img1)\n",
    "\n",
    "cv2.waitKey(0)\n",
    "cv2.destroyAllWindows()"
   ]
  },
  {
   "cell_type": "markdown",
   "metadata": {},
   "source": [
    "para sayma2"
   ]
  },
  {
   "cell_type": "code",
   "execution_count": 2,
   "metadata": {},
   "outputs": [],
   "source": [
    "import cv2\n",
    "import numpy as np\n",
    "\n",
    "img2 = cv2.imread(\"para2.jpg\")\n",
    "img2 = cv2.resize(img2, (640, 480))\n",
    "gray2 = cv2.cvtColor(img2, cv2.COLOR_BGR2GRAY)\n",
    "img2_blur = cv2.medianBlur(gray2, 19)\n",
    "\n",
    "circles2 = cv2.HoughCircles(img2_blur, cv2.HOUGH_GRADIENT, 1, img2.shape[0]/5, param1=200, param2=20, minRadius=50, maxRadius=117)\n",
    "\n",
    "if circles2 is not None:\n",
    "    circles2 = np.uint16(np.around(circles2))\n",
    "    coins = len(circles2[0])\n",
    "    \n",
    "    for i in circles2[0, :]:\n",
    "        cv2.circle(img2, (i[0], i[1]), i[2], (0, 255, 0), 2)\n",
    "    \n",
    "    cv2.putText(img2, f\"Bulunan para sayisi: {coins}\", (10, 30), cv2.FONT_HERSHEY_SIMPLEX, 0.8, (255, 0, 0), 2)\n",
    "\n",
    "cv2.imshow(\"img2\", img2)\n",
    "\n",
    "cv2.waitKey(0)\n",
    "cv2.destroyAllWindows()\n"
   ]
  },
  {
   "cell_type": "markdown",
   "metadata": {},
   "source": [
    "para sayma3\n"
   ]
  },
  {
   "cell_type": "code",
   "execution_count": null,
   "metadata": {},
   "outputs": [],
   "source": [
    "import cv2\n",
    "import numpy as np\n",
    "\n",
    "img3= cv2.imread(\"para3.jpg\")\n",
    "img3 = cv2.resize(img3,(640,480))\n",
    "gray3 = cv2.cvtColor(img3,cv2.COLOR_BGR2GRAY)\n",
    "img3_blur = cv2.medianBlur(gray1,5)\n",
    "\n",
    "circles3 = cv2.HoughCircles(img3_blur,cv2.HOUGH_GRADIENT,1,img3.shape[0]/8,param1=180,param2=20,minRadius=20,maxRadius=110)\n",
    "\n",
    "if circles3 is not None:\n",
    "    circles3 = np.uint16(np.around(circles3))\n",
    "    \n",
    "    for i in circles1[0,:]: \n",
    "        cv2.circle(img3,(i[0],i[1]),i[2],(0,255,0),2) \n",
    "        coins = len(circles3[0])\n",
    "    \n",
    "    cv2.putText(img3, f\"Bulunan para sayisi: {coins}\", (50, 30), cv2.FONT_HERSHEY_SIMPLEX, 0.8, (255, 0, 0), 2)\n",
    "        \n",
    "cv2.imshow(\"img3\",img3)\n",
    "\n",
    "cv2.waitKey(0)\n",
    "cv2.destroyAllWindows()"
   ]
  },
  {
   "cell_type": "markdown",
   "metadata": {},
   "source": [
    "para Watershed1"
   ]
  },
  {
   "cell_type": "code",
   "execution_count": 1,
   "metadata": {},
   "outputs": [
    {
     "name": "stdout",
     "output_type": "stream",
     "text": [
      " 9 benzersiz segment bulundu\n"
     ]
    }
   ],
   "source": [
    "from skimage.feature import peak_local_max\n",
    "from skimage.segmentation import watershed\n",
    "from scipy import ndimage\n",
    "import numpy as np\n",
    "import imutils\n",
    "import cv2\n",
    "\n",
    "image = cv2.imread(\"para3.jpg\")\n",
    "\n",
    "# Ortalama Kaydırma (Mean Shift) filtreleme uygula / görüntüdeki renk varyasyonlarını azaltarak nesne segmentasyonunu kolaylaştırır.\n",
    "shifted = cv2.pyrMeanShiftFiltering(image, 21, 51)\n",
    "\n",
    "gray = cv2.cvtColor(shifted, cv2.COLOR_BGR2GRAY)\n",
    "blurred = cv2.GaussianBlur(gray, (3, 3), 0)\n",
    "\n",
    "thresh = cv2.threshold(blurred, 0, 255, cv2.THRESH_BINARY | cv2.THRESH_OTSU)[1]\n",
    "cv2.imshow(\"thresh\", thresh)\n",
    "\n",
    "# Her ikili (binary) pikselden en yakın sıfır piksele olan tam Öklid mesafesini hesapla\n",
    "D = ndimage.distance_transform_edt(thresh)\n",
    "# Mesafe haritasındaki zirve (tepe) noktalarını bul\n",
    "localMax = peak_local_max(D, footprint=np.ones((21, 21)), labels=thresh)\n",
    "# Yerel zirveler için bir maske oluştur\n",
    "mask = np.zeros(D.shape, dtype=bool)\n",
    "mask[tuple(localMax.T)] = True\n",
    "\n",
    "# Yerel zirvelerde bağlı bileşen analizini gerçekleştir\n",
    "markers, _ = ndimage.label(mask)\n",
    "# Watershed algoritmasını uygula\n",
    "labels = watershed(-D, markers, mask=thresh)\n",
    "print(\" {} benzersiz segment bulundu\".format(len(np.unique(labels)) - 1))\n",
    "\n",
    "# Watershed algoritması tarafından döndürülen benzersiz etiketler üzerinde döngü\n",
    "for label in np.unique(labels):\n",
    "    if label == 0:\n",
    "        continue\n",
    "\n",
    "    # Etiket bölgesi için bellek ayır ve maskede çiz\n",
    "    labelMask = np.zeros(gray.shape, dtype=\"uint8\")\n",
    "    labelMask[labels == label] = 255\n",
    "\n",
    "    # Maskedeki konturları tespit et ve en büyüğünü al\n",
    "    cnts = cv2.findContours(labelMask.copy(), cv2.RETR_EXTERNAL, cv2.CHAIN_APPROX_SIMPLE)\n",
    "    cnts = imutils.grab_contours(cnts)\n",
    "    \n",
    "    # Eğer kontur yoksa veya çok küçükse atla\n",
    "    if len(cnts) == 0 or cv2.contourArea(cnts[0]) < 200:  # Minimum alanı artırarak daha iyi filtreleme yapabiliriz\n",
    "        continue\n",
    "\n",
    "    # En büyük konturu bul\n",
    "    c = max(cnts, key=cv2.contourArea)\n",
    "\n",
    "    ((x, y), r) = cv2.minEnclosingCircle(c)\n",
    "    cv2.circle(image, (int(x), int(y)), int(r), (0, 255, 0), 2)\n",
    "    cv2.putText(image, \"#{}\".format(label), (int(x) - 10, int(y)), cv2.FONT_HERSHEY_SIMPLEX, 0.6, (0, 0, 255), 2)\n",
    "\n",
    "cv2.imshow(\"sonuc\", image)\n",
    "cv2.waitKey(0)\n",
    "cv2.destroyAllWindows()\n"
   ]
  }
 ],
 "metadata": {
  "kernelspec": {
   "display_name": "Python 3",
   "language": "python",
   "name": "python3"
  },
  "language_info": {
   "codemirror_mode": {
    "name": "ipython",
    "version": 3
   },
   "file_extension": ".py",
   "mimetype": "text/x-python",
   "name": "python",
   "nbconvert_exporter": "python",
   "pygments_lexer": "ipython3",
   "version": "3.11.2"
  }
 },
 "nbformat": 4,
 "nbformat_minor": 2
}
