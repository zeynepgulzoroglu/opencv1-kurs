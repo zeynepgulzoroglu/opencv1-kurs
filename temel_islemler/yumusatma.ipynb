{
 "cells": [
  {
   "cell_type": "code",
   "execution_count": 2,
   "metadata": {},
   "outputs": [
    {
     "data": {
      "text/plain": [
       "-1"
      ]
     },
     "execution_count": 2,
     "metadata": {},
     "output_type": "execute_result"
    }
   ],
   "source": [
    "import cv2\n",
    "import numpy as np\n",
    "\n",
    "img_f = cv2.imread(\"filter.png\")\n",
    "img_m = cv2.imread(\"median.png\")\n",
    "img_b = cv2.imread(\"tahta.png\")\n",
    "\n",
    "blur = cv2.blur(img_f, (5,5)) #sayılar tek sayı olmalı\n",
    "blur_g = cv2.GaussianBlur(img_f, (5,5), cv2.BORDER_DEFAULT) #sınır belirtiyoruz border default ile olan sınırları alıyoruz\n",
    "blur_m = cv2.medianBlur(img_m, 5)\n",
    "blur_b = cv2.bilateralFilter(img_b, 9, 95, 95)\n",
    "\n",
    "cv2.imshow(\"original\", img_b)\n",
    "cv2.imshow(\"blur_b\", blur_b)\n",
    "\n",
    "cv2.waitKey(0)"
   ]
  }
 ],
 "metadata": {
  "kernelspec": {
   "display_name": "Python 3",
   "language": "python",
   "name": "python3"
  },
  "language_info": {
   "codemirror_mode": {
    "name": "ipython",
    "version": 3
   },
   "file_extension": ".py",
   "mimetype": "text/x-python",
   "name": "python",
   "nbconvert_exporter": "python",
   "pygments_lexer": "ipython3",
   "version": "3.11.2"
  }
 },
 "nbformat": 4,
 "nbformat_minor": 2
}
