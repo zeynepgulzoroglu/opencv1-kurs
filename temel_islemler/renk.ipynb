{
 "cells": [
  {
   "cell_type": "markdown",
   "metadata": {},
   "source": [
    "renk bulma"
   ]
  },
  {
   "cell_type": "code",
   "execution_count": null,
   "metadata": {},
   "outputs": [],
   "source": [
    "import cv2\n",
    "import numpy as np\n",
    "\n",
    "img = cv2.imread(\"klon.jpg\")\n",
    "\n",
    "dimension = img.shape\n",
    "print(dimension)\n",
    "\n",
    "color = img[420,500]\n",
    "print(color)\n",
    "\n",
    "blue = img[420,500,0]\n",
    "print(\"blue:\", blue)\n",
    "\n",
    "green = img[420,500,1]\n",
    "print(\"green:\", green)\n",
    "\n",
    "red = img[420,500,2]\n",
    "print(\"red:\", red)\n",
    "\n",
    "img[420,500,0] = 250\n",
    "print(\"new blue:\", img[420,500,0])\n",
    "\n",
    "blue1 = img.item(150,200,0)\n",
    "print(\"blue1:\", blue1)\n",
    "\n",
    "img.itemset((150,200,0), 172)\n",
    "print(\"new blue1:\", img[150,200,0])\n",
    "\n",
    "cv2.imshow(\"klon asker\", img)\n",
    "cv2.waitKey(0)\n",
    "cv2.destroyAllWindows"
   ]
  },
  {
   "cell_type": "markdown",
   "metadata": {},
   "source": [
    "renk uzayı değiştirme"
   ]
  },
  {
   "cell_type": "code",
   "execution_count": null,
   "metadata": {},
   "outputs": [],
   "source": [
    "import cv2\n",
    "\n",
    "img = cv2.imread(\"klon.jpg\")\n",
    "\n",
    "img_rgb = cv2.cvtColor(img, cv2.COLOR_BGR2RGB)\n",
    "img_hsv = cv2.cvtColor(img, cv2.COLOR_BGR2HSV)\n",
    "img_gray = cv2.cvtColor(img, cv2.COLOR_BGR2GRAY)\n",
    "\n",
    "cv2.imshow(\"klon BGR\",img)\n",
    "cv2.imshow(\"klon RGB\",img_rgb)\n",
    "cv2.imshow(\"klon HSV\",img_hsv)\n",
    "cv2.imshow(\"klon gray\",img_gray)\n",
    "\n",
    "cv2.waitKey(0)\n",
    "cv2.destroyAllWindows()"
   ]
  },
  {
   "cell_type": "markdown",
   "metadata": {},
   "source": [
    "renk uzayı değiştirme video"
   ]
  },
  {
   "cell_type": "code",
   "execution_count": null,
   "metadata": {},
   "outputs": [],
   "source": [
    "import cv2\n",
    "\n",
    "cap = cv2.VideoCapture(\"video.mp4\")\n",
    "\n",
    "while True:\n",
    "    ret, frame = cap.read()\n",
    "    frame = cv2.cvtColor(frame, cv2.COLOR_BGR2GRAY)\n",
    "    if ret == False:\n",
    "        break\n",
    "\n",
    "    cv2.imshow(\"video\", frame)\n",
    "    if cv2.waitKey(20) & 0xFF == ord(\"q\"):\n",
    "     break\n",
    "\n",
    "cap.release()\n",
    "cv2.destroyAllWindows()"
   ]
  },
  {
   "cell_type": "markdown",
   "metadata": {},
   "source": [
    "hsv kodları bulma (renkseçme)"
   ]
  },
  {
   "cell_type": "code",
   "execution_count": null,
   "metadata": {},
   "outputs": [],
   "source": [
    "import cv2\n",
    "import numpy as np\n",
    "\n",
    "cap = cv2.VideoCapture(0)\n",
    "\n",
    "def nothing(x):\n",
    "    pass\n",
    "\n",
    "cv2.namedWindow(\"Trackbar\")\n",
    "cv2.resizeWindow(\"Trackbar\", 400,400)\n",
    "\n",
    "cv2.createTrackbar(\"Lower - H\", \"Trackbar\", 0, 180, nothing)\n",
    "cv2.createTrackbar(\"Lower - S\", \"Trackbar\", 0, 255, nothing)\n",
    "cv2.createTrackbar(\"Lower - V\", \"Trackbar\", 0, 255, nothing)\n",
    "\n",
    "cv2.createTrackbar(\"Upper - H\", \"Trackbar\", 0, 180, nothing)\n",
    "cv2.createTrackbar(\"Upper - S\", \"Trackbar\", 0, 255, nothing)\n",
    "cv2.createTrackbar(\"Upper - V\", \"Trackbar\", 0, 255, nothing)\n",
    "\n",
    "cv2.setTrackbarPos(\"Upper - H\", \"Trackbar\", 180)\n",
    "cv2.setTrackbarPos(\"Upper - S\", \"Trackbar\", 255)\n",
    "cv2.setTrackbarPos(\"Upper - V\", \"Trackbar\", 255)\n",
    "\n",
    "while True:\n",
    "    ret, frame = cap.read()\n",
    "    frame = cv2.flip(frame, 1)\n",
    "\n",
    "    frame_hsv = cv2.cvtColor(frame, cv2.COLOR_BGR2HSV)\n",
    "\n",
    "    lower_h = cv2.getTrackbarPos(\"Lower - H\", \"Trackbar\")\n",
    "    lower_s = cv2.getTrackbarPos(\"Lower - S\", \"Trackbar\")\n",
    "    lower_v = cv2.getTrackbarPos(\"Lower - V\", \"Trackbar\")\n",
    "\n",
    "    upper_h = cv2.getTrackbarPos(\"Upper - H\", \"Trackbar\")\n",
    "    upper_s = cv2.getTrackbarPos(\"Upper - S\", \"Trackbar\")\n",
    "    upper_v = cv2.getTrackbarPos(\"Upper - V\", \"Trackbar\")\n",
    "\n",
    "    lower_color = np.array([lower_h, lower_s, lower_v])\n",
    "    upper_color = np.array([upper_h, upper_s, upper_v])\n",
    "\n",
    "    mask = cv2.inRange(frame_hsv, lower_color, upper_color)\n",
    "\n",
    "    cv2.imshow(\"Original\", frame)\n",
    "    cv2.imshow(\"Mask\", mask)\n",
    "\n",
    "    if cv2.waitKey(20) & 0xFF == ord(\"q\"):\n",
    "        break\n",
    "\n",
    "\n",
    "cap.release()\n",
    "cv2.destroyAllWindows()"
   ]
  },
  {
   "cell_type": "markdown",
   "metadata": {},
   "source": [
    "morfoloji"
   ]
  },
  {
   "cell_type": "code",
   "execution_count": null,
   "metadata": {},
   "outputs": [],
   "source": [
    "import cv2\n",
    "import numpy as np\n",
    "\n",
    "img = cv2.imread(\"klon.jpg\",0)\n",
    "cv2.imshow(\"img\", img)\n",
    "\n",
    "kernel = np.ones((5,5),np.uint8)\n",
    "\n",
    "erosion = cv2.erode(img, kernel, iterations=1)\n",
    "cv2.imshow(\"erosion\",erosion)\n",
    "\n",
    "dilation = cv2.dilate(img, kernel, iterations=5)\n",
    "cv2.imshow(\"dilation\",dilation)\n",
    "\n",
    "opening = cv2.erode(img, cv2.MORPH_OPEN, kernel)\n",
    "cv2.imshow(\"opening\",opening)\n",
    "\n",
    "closeing = cv2.morphologyEx(img, cv2.MORPH_CLOSE, kernel)\n",
    "cv2.imshow(\"closeing\",closeing)\n",
    "\n",
    "gardient = cv2.morphologyEx(img, cv2.MORPH_GRADIENT, kernel)\n",
    "cv2.imshow(\"gardient\",gardient)\n",
    "\n",
    "tophat = cv2.morphologyEx(img, cv2.MORPH_TOPHAT, kernel)\n",
    "cv2.imshow(\"tophat\",tophat)\n",
    "\n",
    "cv2.waitKey(0)\n",
    "cv2.destroyAllWindows()"
   ]
  },
  {
   "cell_type": "markdown",
   "metadata": {},
   "source": [
    "histogram pencere üzerine"
   ]
  },
  {
   "cell_type": "code",
   "execution_count": 8,
   "metadata": {},
   "outputs": [
    {
     "data": {
      "image/png": "[encoded data removed]",
      "text/plain": [
       "<Figure size 640x480 with 1 Axes>"
      ]
     },
     "metadata": {},
     "output_type": "display_data"
    }
   ],
   "source": [
    "import cv2\n",
    "import numpy as np\n",
    "from matplotlib import pyplot as plt\n",
    "\n",
    "img = np.zeros((500,500), np.uint8)\n",
    "cv2.rectangle(img, (0,60), (200,150), (255,255,255), -1)\n",
    "\n",
    "cv2.imshow(\"img\",img)\n",
    "\n",
    "plt.hist(img.ravel(), 256, [0,256])\n",
    "plt.show()\n",
    "\n",
    "cv2.waitKey(0)\n",
    "cv2.destroyAllWindows()"
   ]
  },
  {
   "cell_type": "markdown",
   "metadata": {},
   "source": [
    "histogram resim üzerinde"
   ]
  },
  {
   "cell_type": "code",
   "execution_count": 7,
   "metadata": {},
   "outputs": [
    {
     "data": {
      "image/png": "[encoded data removed]",
      "text/plain": [
       "<Figure size 640x480 with 1 Axes>"
      ]
     },
     "metadata": {},
     "output_type": "display_data"
    }
   ],
   "source": [
    "import cv2\n",
    "import numpy as np\n",
    "from matplotlib import pyplot as plt\n",
    "\n",
    "img = cv2.imread(\"smile.jpg\")\n",
    "b,g,r = cv2.split(img)\n",
    "cv2.imshow(\"img\",img)\n",
    "\n",
    "plt.hist(b.ravel(), 256, [0,256])\n",
    "plt.hist(g.ravel(), 256, [0,256])\n",
    "plt.hist(r.ravel(), 256, [0,256])\n",
    "plt.show()\n",
    "\n",
    "cv2.waitKey(0)\n",
    "cv2.destroyAllWindows()"
   ]
  },
  {
   "cell_type": "markdown",
   "metadata": {},
   "source": []
  }
 ],
 "metadata": {
  "kernelspec": {
   "display_name": "Python 3",
   "language": "python",
   "name": "python3"
  },
  "language_info": {
   "codemirror_mode": {
    "name": "ipython",
    "version": 3
   },
   "file_extension": ".py",
   "mimetype": "text/x-python",
   "name": "python",
   "nbconvert_exporter": "python",
   "pygments_lexer": "ipython3",
   "version": "3.11.2"
  }
 },
 "nbformat": 4,
 "nbformat_minor": 2
}
