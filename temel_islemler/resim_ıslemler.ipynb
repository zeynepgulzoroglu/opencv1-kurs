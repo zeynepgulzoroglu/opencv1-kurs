{
 "cells": [
  {
   "cell_type": "markdown",
   "metadata": {},
   "source": [
    "resimleri üst üste toplama"
   ]
  },
  {
   "cell_type": "code",
   "execution_count": null,
   "metadata": {},
   "outputs": [],
   "source": [
    "import cv2\n",
    "import numpy as np\n",
    "\n",
    "cricle = np.zeros((512,512,3), dtype=np.uint8) + 255\n",
    "cv2.circle(cricle, (256,256), 60, (255,0,0), thickness=-1)\n",
    "\n",
    "rectangle = np.zeros((512,512,3), dtype=np.uint8) + 255\n",
    "cv2.rectangle(rectangle, (150,150), (350,350), (0,0,255), thickness=-1)\n",
    "\n",
    "add = cv2.add(cricle, rectangle)\n",
    "print(add[256,256])\n",
    "\n",
    "cv2.imshow(\"cricle\", cricle)\n",
    "cv2.imshow(\"rectangle\", rectangle)\n",
    "cv2.imshow(\"add\", add)\n",
    "\n",
    "cv2.waitKey(0)\n",
    "cv2.destroyAllWindows()"
   ]
  },
  {
   "cell_type": "markdown",
   "metadata": {},
   "source": [
    "resimleri ağırlık ortalamasına göre toplama"
   ]
  },
  {
   "cell_type": "code",
   "execution_count": null,
   "metadata": {},
   "outputs": [],
   "source": [
    "import cv2\n",
    "import numpy as np\n",
    "\n",
    "cricle = np.zeros((512,512,3), dtype=np.uint8) + 255\n",
    "cv2.circle(cricle, (256,256), 60, (255,0,0), thickness=-1)\n",
    "\n",
    "rectangle = np.zeros((512,512,3), dtype=np.uint8) + 255\n",
    "cv2.rectangle(rectangle, (150,150), (350,350), (0,0,255), thickness=-1)\n",
    "\n",
    "dst = cv2.addWeighted(cricle, 0.3, rectangle, 0.7, 0)\n",
    "\n",
    "cv2.imshow(\"cricle\", cricle)\n",
    "cv2.imshow(\"rectangle\", rectangle)\n",
    "cv2.imshow(\"dst\", dst)\n",
    "\n",
    "cv2.waitKey(0)\n",
    "cv2.destroyAllWindows()"
   ]
  },
  {
   "cell_type": "markdown",
   "metadata": {},
   "source": [
    "renkleri tersine çevirme toplama fln"
   ]
  },
  {
   "cell_type": "code",
   "execution_count": null,
   "metadata": {},
   "outputs": [],
   "source": [
    "import cv2\n",
    "import numpy as np\n",
    "\n",
    "img1= cv2.imread(\"bitwise1.png\")\n",
    "img2= cv2.imread(\"bitwise2.png\")\n",
    "\n",
    "bit_and = cv2.bitwise_and(img1,img2) #birlikte alıyor koyu kısım baskın\n",
    "bit_or = cv2.bitwise_or(img1,img2) \n",
    "bit_xor = cv2.bitwise_xor(img1,img2) #terslerini alıyor toplam\n",
    "bit_not = cv2.bitwise_not(img1)\n",
    "bit_not2 = cv2.bitwise_not(img2)\n",
    "\n",
    "cv2.imshow(\"img1\", img1)\n",
    "cv2.imshow(\"img2\", img2)\n",
    "cv2.imshow(\"bit_and\", bit_and)\n",
    "cv2.imshow(\"bit_or\", bit_or)\n",
    "cv2.imshow(\"bit_xor\", bit_xor)\n",
    "cv2.imshow(\"bit_not\", bit_not)\n",
    "cv2.imshow(\"bit_not2\", bit_not2)\n",
    "\n",
    "cv2.waitKey(0)\n",
    "cv2.destroyAllWindows()"
   ]
  },
  {
   "cell_type": "markdown",
   "metadata": {},
   "source": [
    "şeklin ağırlık ortalamasını bulma"
   ]
  },
  {
   "cell_type": "code",
   "execution_count": 1,
   "metadata": {},
   "outputs": [],
   "source": [
    "import cv2\n",
    "\n",
    "img = cv2.imread(\"contour.png\")\n",
    "\n",
    "gray = cv2.cvtColor(img,cv2.COLOR_BGR2GRAY)\n",
    "\n",
    "rat,thresh = cv2.threshold(gray,127,255,cv2.THRESH_BINARY)\n",
    "M = cv2.moments(thresh)\n",
    "# print(M) burdan value değerlerini bulduk aşağıdaki işlem ezber\n",
    "\n",
    "X = int(M[\"m10\"]/M[\"m00\"])\n",
    "Y = int(M[\"m01\"]/M[\"m00\"])\n",
    "\n",
    "cv2.circle(img,(X,Y),5,(0,255,0), -1)\n",
    "\n",
    "cv2.imshow(\"img\",img)\n",
    "cv2.waitKey()\n",
    "cv2.destroyAllWindows()"
   ]
  },
  {
   "cell_type": "markdown",
   "metadata": {},
   "source": [
    "şeklin alan hesabı"
   ]
  },
  {
   "cell_type": "code",
   "execution_count": null,
   "metadata": {},
   "outputs": [],
   "source": [
    "import cv2\n",
    "\n",
    "img = cv2.imread(\"contour.png\")\n",
    "\n",
    "gray = cv2.cvtColor(img, cv2.COLOR_BGR2GRAY)\n",
    "ret,thresh = cv2.threshold(gray,127,255,cv2.THRESH_BINARY)\n",
    "contours,_ = cv2.findContours(thresh,cv2.RETR_TREE,cv2.CHAIN_APPROX_SIMPLE)\n",
    "\n",
    "cnt = contours[0]\n",
    "area =cv2.contourArea(cnt)\n",
    "print(area)\n",
    "\n",
    "M = cv2.moments(cnt) \n",
    "print(M['m00'])\n",
    "\n",
    "cv2.waitKey(0)\n",
    "cv2.destroyAllWindows()"
   ]
  },
  {
   "cell_type": "markdown",
   "metadata": {},
   "source": [
    "şeklin çevre hesabı"
   ]
  },
  {
   "cell_type": "code",
   "execution_count": null,
   "metadata": {},
   "outputs": [],
   "source": [
    "import cv2\n",
    "\n",
    "img = cv2.imread(\"contour.png\")\n",
    "\n",
    "gray = cv2.cvtColor(img, cv2.COLOR_BGR2GRAY)\n",
    "ret,thresh = cv2.threshold(gray,127,255,cv2.THRESH_BINARY)\n",
    "contours,_ = cv2.findContours(thresh,cv2.RETR_TREE,cv2.CHAIN_APPROX_SIMPLE)\n",
    "\n",
    "perimeter = cv2.arcLength(cnt,True)\n",
    "print(perimeter)\n",
    "\n",
    "cv2.waitKey(0)\n",
    "cv2.destroyAllWindows()"
   ]
  }
 ],
 "metadata": {
  "kernelspec": {
   "display_name": "Python 3",
   "language": "python",
   "name": "python3"
  },
  "language_info": {
   "codemirror_mode": {
    "name": "ipython",
    "version": 3
   },
   "file_extension": ".py",
   "mimetype": "text/x-python",
   "name": "python",
   "nbconvert_exporter": "python",
   "pygments_lexer": "ipython3",
   "version": "3.11.2"
  }
 },
 "nbformat": 4,
 "nbformat_minor": 2
}
